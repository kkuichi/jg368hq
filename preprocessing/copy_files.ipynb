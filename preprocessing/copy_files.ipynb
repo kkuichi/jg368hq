{
 "cells": [
  {
   "cell_type": "markdown",
   "id": "96b6aa39-e32b-4428-a3d3-1e58ae898886",
   "metadata": {},
   "source": [
    "### Copy files into folder with max 5000 files"
   ]
  },
  {
   "cell_type": "code",
   "execution_count": null,
   "id": "dba8767c-a638-467c-a892-9309c6f70ae6",
   "metadata": {},
   "outputs": [],
   "source": [
    "import os\n",
    "import shutil\n",
    "\n",
    "from concurrent.futures import ThreadPoolExecutor\n",
    "\n",
    "\n",
    "def copy_file(file_path, dest_path):\n",
    "    try:\n",
    "        shutil.copy2(file_path, dest_path)\n",
    "    except Exception as e:\n",
    "        print(f\"Error copying file {file_path}: {e}\")\n",
    "\n",
    "def copy_all_files(source_folder, destination_folder):\n",
    "    print(\"Copying files\") \n",
    "    # Check if destination folder exists; if not, create it\n",
    "    if not os.path.exists(destination_folder):\n",
    "        os.makedirs(destination_folder)\n",
    "    \n",
    "    tasks = []\n",
    "    \n",
    "    folder_index = 1  # Start with the first folder\n",
    "    file_count = 0    # Initialize file count for the current folder\n",
    "    # Walk through all subfolders and files\n",
    "    for root, _, files in os.walk(source_folder):\n",
    "        for file in files:\n",
    "            if '-checkpoint' in file:\n",
    "                continue\n",
    "                \n",
    "            current_dest_folder = os.path.join(destination_folder, f\"folder_{folder_index}\")\n",
    "            if not os.path.exists(current_dest_folder):\n",
    "                os.makedirs(current_dest_folder)\n",
    "    \n",
    "            file_path = os.path.join(root, file)\n",
    "            tasks.append((file_path, current_dest_folder))\n",
    "            \n",
    "            file_count += 1\n",
    "            if file_count >= 5000:\n",
    "                folder_index += 1  # Move to the next folder\n",
    "                file_count = 0     # Reset file count for the new folder\n",
    "    \n",
    "    print(f\"Created {folder_index} * 5000 tasks\")\n",
    "    \n",
    "    with ThreadPoolExecutor(max_workers=24) as executor:\n",
    "        executor.map(lambda p: copy_file(*p), tasks)\n",
    "\n",
    "# Example usage:\n",
    "source_folder = \"./dr17/eboss/photoObj/frames/301\"           # Replace with the actual source folder path\n",
    "destination_folder = \"./sdss_source_fits\"  # Replace with the actual destination folder path\n",
    "\n",
    "copy_all_files(source_folder, destination_folder)\n",
    "print(\"Done\")"
   ]
  },
  {
   "cell_type": "code",
   "execution_count": null,
   "id": "eabd722b-d52a-4a01-82ab-fd43a87d8c92",
   "metadata": {},
   "outputs": [],
   "source": [
    "import os\n",
    "\n",
    "os.getcwd()"
   ]
  },
  {
   "cell_type": "markdown",
   "id": "4f19c7ab-48c1-4428-b6d2-e25e554ff1b3",
   "metadata": {},
   "source": [
    "### Copy files into folder"
   ]
  },
  {
   "cell_type": "code",
   "execution_count": null,
   "id": "c37093c8-fdc8-4885-a749-308c8bee44b0",
   "metadata": {},
   "outputs": [],
   "source": [
    "import os\n",
    "import shutil\n",
    "\n",
    "from concurrent.futures import ThreadPoolExecutor\n",
    "\n",
    "\n",
    "def copy_file(file_path, dest_path):\n",
    "    try:\n",
    "        shutil.copy2(file_path, dest_path)\n",
    "    except Exception as e:\n",
    "        print(f\"Error copying file {file_path}: {e}\")\n",
    "\n",
    "def copy_all_files(source_folder, destination_folder):\n",
    "    print(\"Copying files\") \n",
    "    # Check if destination folder exists; if not, create it\n",
    "    if not os.path.exists(destination_folder):\n",
    "        os.makedirs(destination_folder)\n",
    "    \n",
    "    tasks = []\n",
    "    \n",
    "    for file in os.listdir(source_folder):\n",
    "        if '-checkpoint' in file:\n",
    "            continue\n",
    "    \n",
    "        file_path = os.path.join(source_folder, file)\n",
    "        tasks.append((file_path, destination_folder))\n",
    "        \n",
    "    \n",
    "    with ThreadPoolExecutor(max_workers=24) as executor:\n",
    "        executor.map(lambda p: copy_file(*p), tasks)\n",
    "\n",
    "# Example usage:\n",
    "for folder in range(11, 29):\n",
    "    source_folder = f\"/home/jovyan/data/lightning/JulianaGazdova/yolo/yolov5/runs/detect/exp{50 + folder - 1}/labels\"           # Replace with the actual source folder path\n",
    "    destination_folder = f\"./sdss_labels/folder_{folder}\"  # Replace with the actual destination folder path\n",
    "\n",
    "    copy_all_files(source_folder, destination_folder)\n",
    "    print(\"Done\")\n"
   ]
  },
  {
   "cell_type": "code",
   "execution_count": null,
   "id": "8e795205-4049-4caf-aadc-71d8eefb20fc",
   "metadata": {},
   "outputs": [],
   "source": []
  }
 ],
 "metadata": {
  "kernelspec": {
   "display_name": "Python 3 (ipykernel)",
   "language": "python",
   "name": "python3"
  },
  "language_info": {
   "codemirror_mode": {
    "name": "ipython",
    "version": 3
   },
   "file_extension": ".py",
   "mimetype": "text/x-python",
   "name": "python",
   "nbconvert_exporter": "python",
   "pygments_lexer": "ipython3",
   "version": "3.12.10"
  }
 },
 "nbformat": 4,
 "nbformat_minor": 5
}
