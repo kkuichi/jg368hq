{
 "cells": [
  {
   "cell_type": "code",
   "execution_count": null,
   "id": "c0ddeb5d-bd52-40a3-b789-ac9a4d791203",
   "metadata": {},
   "outputs": [],
   "source": [
    "#!pip install astropy==5.1.1 --no-cache-dir --force-reinstall\n",
    "#!pip install astropy==4.3.1 --no-cache-dir --force-reinstall\n",
    "!pip install astropy==5.1.1 "
   ]
  },
  {
   "cell_type": "code",
   "execution_count": null,
   "id": "6ba3f2cd-26b0-469b-b295-b324cd1452e2",
   "metadata": {},
   "outputs": [],
   "source": [
    "#!pip install aplpy --no-cache-dir --force-reinstall\n",
    "!pip install aplpy"
   ]
  },
  {
   "cell_type": "code",
   "execution_count": 8,
   "id": "d80a9955-e36c-4395-8bef-7e8fec40ebc4",
   "metadata": {},
   "outputs": [],
   "source": [
    "import matplotlib.pyplot as plt\n",
    "import aplpy\n",
    "import os"
   ]
  },
  {
   "cell_type": "code",
   "execution_count": 14,
   "id": "c00e758d-1c63-44e1-ba5a-ca0a2ebf3fa7",
   "metadata": {},
   "outputs": [],
   "source": [
    "import warnings\n",
    "warnings.filterwarnings(\"ignore\")\n",
    "from astropy.io import fits"
   ]
  },
  {
   "cell_type": "code",
   "execution_count": null,
   "id": "73dd9d82-ce79-403c-a5dc-9803b8695bf9",
   "metadata": {},
   "outputs": [],
   "source": [
    "path = '../data/new_data_subset/cut_fits/'\n",
    "destination = '../data/new_data_subset/masks_from_cut_fits/images/'\n",
    "\n",
    "def convert_data():\n",
    "    i = 0\n",
    "\n",
    "    for index, file in enumerate(os.listdir(path)):\n",
    "        file_name = file.split(\".\")[0]\n",
    "\n",
    "\n",
    "        #gc = aplpy.FITSFigure(path + file).show_grayscale(invert=False, stretch='power', exponent=0.5,pmin=10,pmax=90)\n",
    "        gc = aplpy.FITSFigure(path + file).show_grayscale(invert=False, stretch='power', exponent=0.5)\n",
    "        plt.gca().set_axis_off()\n",
    "        plt.subplots_adjust(top=1, bottom=0, right=1, left=0,\n",
    "                            hspace=0, wspace=0)\n",
    "        plt.margins(0, 0)\n",
    "        plt.gca().xaxis.set_major_locator(plt.NullLocator())\n",
    "        plt.gca().yaxis.set_major_locator(plt.NullLocator())\n",
    "\n",
    "        plt.savefig(destination + '{}.jpg'.format(file_name), format='jpg', bbox_inches='tight', pad_inches=0)\n",
    "        \n",
    "convert_data()"
   ]
  },
  {
   "cell_type": "code",
   "execution_count": 5,
   "id": "512d3934-426d-4120-8c02-9c5632cc0b70",
   "metadata": {},
   "outputs": [],
   "source": [
    "import logging\n",
    "\n",
    "logging.disable(logging.INFO)"
   ]
  },
  {
   "cell_type": "code",
   "execution_count": 7,
   "id": "bcabf1dd-e750-4a4b-8be8-0323538a27c7",
   "metadata": {},
   "outputs": [],
   "source": [
    "from concurrent.futures import ProcessPoolExecutor\n",
    "batch_number = 28\n",
    "path = f'/home/jovyan/data2/uniba/sdss_source_fits/folder_{batch_number}/'\n",
    "destination = f'/home/jovyan/data2/uniba/sdss_source_jpg/folder_{batch_number}/'\n",
    "\n",
    "\n",
    "def process_file(file):\n",
    "    file_name = file.split(\".\")[0]\n",
    "    gc = aplpy.FITSFigure(path + file).show_grayscale(invert=False, stretch='power', exponent=0.5)\n",
    "\n",
    "    plt.gca().set_axis_off()\n",
    "    plt.subplots_adjust(top=1, bottom=0, right=1, left=0, hspace=0, wspace=0)\n",
    "    plt.margins(0, 0)\n",
    "    plt.gca().xaxis.set_major_locator(plt.NullLocator())\n",
    "    plt.gca().yaxis.set_major_locator(plt.NullLocator())\n",
    "\n",
    "    plt.savefig(destination + '{}.jpg'.format(file_name), format='jpg', bbox_inches='tight', pad_inches=0)\n",
    "    plt.close()\n",
    "\n",
    "\n",
    "def convert_data():\n",
    "    if not os.path.exists(destination):\n",
    "        os.makedirs(destination)\n",
    "    files = os.listdir(path)\n",
    "    with ProcessPoolExecutor() as executor:\n",
    "        executor.map(process_file, files)\n",
    "\n",
    "\n",
    "convert_data()"
   ]
  },
  {
   "cell_type": "markdown",
   "id": "8fdf7aba-90eb-461e-b38a-6e233f2940cd",
   "metadata": {},
   "source": [
    "### multiprocessing wrong "
   ]
  },
  {
   "cell_type": "code",
   "execution_count": null,
   "id": "b18e66dd-0ef0-4c33-968a-54c5eceb35dd",
   "metadata": {},
   "outputs": [],
   "source": [
    "import os\n",
    "from concurrent.futures import ThreadPoolExecutor, as_completed\n",
    "\n",
    "import aplpy\n",
    "from matplotlib import pyplot as plt\n",
    "\n",
    "\n",
    "def process_file(file, path, destination):\n",
    "    file_name = file.split(\".\")[0]\n",
    "    gc = aplpy.FITSFigure(path + file).show_grayscale(invert=False, stretch='power', exponent=0.5)\n",
    "\n",
    "    plt.gca().set_axis_off()\n",
    "    plt.subplots_adjust(top=1, bottom=0, right=1, left=0, hspace=0, wspace=0)\n",
    "    plt.margins(0, 0)\n",
    "    plt.gca().xaxis.set_major_locator(plt.NullLocator())\n",
    "    plt.gca().yaxis.set_major_locator(plt.NullLocator())\n",
    "\n",
    "    plt.savefig(destination + '{}.jpg'.format(file_name), format='jpg', bbox_inches='tight', pad_inches=0)\n",
    "    plt.close()\n",
    "a\n",
    "\n",
    "def convert_data(batch_number):\n",
    "\n",
    "    path = f'/home/jovyan/data2/uniba/sdss_source_fits/folder_{batch_number}/'\n",
    "    destination = f'/home/jovyan/data2/uniba/sdss_source_jpg/folder_{batch_number}/'\n",
    "\n",
    "    if not os.path.exists(destination):\n",
    "        os.makedirs(destination)\n",
    "    files = os.listdir(path)\n",
    "    with ThreadPoolExecutor(max_workers=24) as executor:\n",
    "        futures = [executor.submit(process_file, file, path, destination) for file in files]\n",
    "\n",
    "        for future in as_completed(futures):\n",
    "            try:\n",
    "                galaxy_data = future.result()\n",
    "                df_galaxy_data = df_galaxy_data.append(galaxy_data.__dict__, ignore_index=True)\n",
    "            except Exception as e:\n",
    "                print(f\"Error processing FIT: {e}\")\n",
    "\n",
    "\n",
    "if __name__ == \"__main__\":\n",
    "    for batch_number in range(3, 29):\n",
    "        convert_data(batch_number)\n"
   ]
  },
  {
   "cell_type": "markdown",
   "id": "541828c1-c5b1-499e-acc1-3245d61b6ad3",
   "metadata": {},
   "source": [
    "### Pixel dump instead of matplotlib"
   ]
  },
  {
   "cell_type": "code",
   "execution_count": null,
   "id": "435814a8-fa15-413a-8275-ac9630f9ddc7",
   "metadata": {},
   "outputs": [],
   "source": [
    "from astropy.io import fits\n",
    "from PIL import Image\n",
    "import numpy as np\n",
    "import os\n",
    "\n",
    "# Paths\n",
    "fits_dir = '../data/new_data_subset/cut_fits/'\n",
    "destination = '../data/new_data_subset/masks_from_cut_fits/images_dump/'\n",
    "\n",
    "os.makedirs(destination, exist_ok=True)\n",
    "\n",
    "def convert_fits_to_exact_image():\n",
    "    for file in os.listdir(fits_dir):\n",
    "        file_path = os.path.join(fits_dir, file)\n",
    "        file_name = file.split(\".\")[0]\n",
    "\n",
    "        # Load FITS data\n",
    "        with fits.open(file_path) as hdul:\n",
    "            data = hdul[0].data\n",
    "\n",
    "        # Flip vertically to match FITS (bottom-left) to image (top-left)\n",
    "        data = data[::-1]\n",
    "\n",
    "        # Apply power stretch (same as aplpy stretch='power', exponent=0.5)\n",
    "        exponent = 0.5\n",
    "        data = np.power(data - np.min(data), exponent)\n",
    "\n",
    "        # Normalize to 0-255 (8-bit grayscale)\n",
    "        data -= np.min(data)\n",
    "        data /= np.max(data)\n",
    "        data *= 255\n",
    "        data = data.astype(np.uint8)\n",
    "\n",
    "        # Save as image\n",
    "        image = Image.fromarray(data)\n",
    "        image.save(os.path.join(destination, f'{file_name}.png'))\n",
    "\n",
    "        #print(f\"Converted {file} to {file_name}.png with power stretch (exponent={exponent})\")\n",
    "\n",
    "convert_fits_to_exact_image()"
   ]
  },
  {
   "cell_type": "code",
   "execution_count": null,
   "id": "df9f9e05-0787-4f12-8036-4684504aea59",
   "metadata": {},
   "outputs": [],
   "source": []
  }
 ],
 "metadata": {
  "kernelspec": {
   "display_name": "Python 3 (ipykernel)",
   "language": "python",
   "name": "python3"
  },
  "language_info": {
   "codemirror_mode": {
    "name": "ipython",
    "version": 3
   },
   "file_extension": ".py",
   "mimetype": "text/x-python",
   "name": "python",
   "nbconvert_exporter": "python",
   "pygments_lexer": "ipython3",
   "version": "3.12.10"
  }
 },
 "nbformat": 4,
 "nbformat_minor": 5
}
