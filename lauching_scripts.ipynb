{
 "cells": [
  {
   "cell_type": "code",
   "execution_count": null,
   "id": "271b5dbb-1526-4765-8938-8f9714b49de9",
   "metadata": {},
   "outputs": [],
   "source": [
    "!pip install -r requirements.txt"
   ]
  },
  {
   "cell_type": "markdown",
   "id": "913c1141-da38-40cf-b74d-251ff75121cc",
   "metadata": {},
   "source": [
    "### Pipeline execution"
   ]
  },
  {
   "cell_type": "code",
   "execution_count": null,
   "id": "257264fa-798a-425e-ab33-96339858dcd9",
   "metadata": {},
   "outputs": [],
   "source": [
    "!pip install opencv-python==4.7.0.72\n",
    "!pip install astropy\n",
    "!pip install astroquery==0.4.7"
   ]
  },
  {
   "cell_type": "code",
   "execution_count": 2,
   "id": "c69d8ff1-7f3a-4926-9719-652726197d9c",
   "metadata": {},
   "outputs": [],
   "source": [
    "from crop_cv_multi import crop_and_save\n",
    "from treshold_mine_multi import create_masks\n",
    "from back_to_image_multi import create_whole_masks\n",
    "from extract_data_from_fits_multi import extract_fits\n",
    "from premena_pix_to_coord_multi import get_galaxies\n",
    "import os"
   ]
  },
  {
   "cell_type": "code",
   "execution_count": 3,
   "id": "9841849b-9c41-4fd3-8b0d-95d21a659a80",
   "metadata": {},
   "outputs": [],
   "source": [
    "folder_num = 28\n",
    "SDSS_SOURCE_FITS = f\"/home/jovyan/data2/uniba/sdss_source_fits/folder_{folder_num}\"\n",
    "SDSS_SOURCE_JPG = f\"/home/jovyan/data2/uniba/sdss_source_jpg/folder_{folder_num}\"\n",
    "SDSS_LABELS = f\"/home/jovyan/data2/uniba/sdss_labels/folder_{folder_num}\"\n",
    "\n",
    "SDSS_CROPPED_GALAXIES = f\"/home/jovyan/data2/uniba/sdss_cropped_galaxies/folder_{folder_num}\"\n",
    "if not os.path.exists(SDSS_CROPPED_GALAXIES):\n",
    "    os.mkdir(SDSS_CROPPED_GALAXIES)\n",
    "    \n",
    "SDSS_CROPPED_MASKS = f\"/home/jovyan/data2/uniba/sdss_cropped_masks/folder_{folder_num}\"\n",
    "if not os.path.exists(SDSS_CROPPED_MASKS):\n",
    "    os.mkdir(SDSS_CROPPED_MASKS)\n",
    "    \n",
    "SDSS_WHOLE_MASKS = f\"/home/jovyan/data2/uniba/sdss_whole_masks/folder_{folder_num}\"\n",
    "if not os.path.exists(SDSS_WHOLE_MASKS):\n",
    "    os.mkdir(SDSS_WHOLE_MASKS)\n",
    "    \n",
    "EXTRACTED_FITS = f\"/home/jovyan/data2/uniba/sdss_extracted_fits/folder_{folder_num}\"\n",
    "if not os.path.exists(EXTRACTED_FITS):\n",
    "    os.mkdir(EXTRACTED_FITS)\n",
    "    \n",
    "RESULT_PATH = f\"/home/jovyan/data2/uniba/sdss_result_excel/galaxies_data_folder_{folder_num}.xlsx\""
   ]
  },
  {
   "cell_type": "code",
   "execution_count": null,
   "id": "567bf811-d8c1-4ab0-bd34-9cc2d1f79e02",
   "metadata": {},
   "outputs": [],
   "source": [
    "crop_and_save(labels_path=SDSS_LABELS,galaxies_jpg_path=SDSS_SOURCE_JPG,destination=SDSS_CROPPED_GALAXIES,)\n",
    "print(\"Cropped galaxies Done\")"
   ]
  },
  {
   "cell_type": "code",
   "execution_count": null,
   "id": "4effd6a2-5573-40ce-a416-2356a2dae42d",
   "metadata": {},
   "outputs": [],
   "source": [
    "create_masks(cropped_galaxies_path=SDSS_CROPPED_GALAXIES, cropped_masks_path=SDSS_CROPPED_MASKS)\n",
    "print(\"Cropped galaxies masks Done\")"
   ]
  },
  {
   "cell_type": "code",
   "execution_count": null,
   "id": "4c264bf7-d356-4d55-b2a5-96d6c940dbf9",
   "metadata": {},
   "outputs": [],
   "source": [
    "create_whole_masks(cropped_masks_path=SDSS_CROPPED_MASKS,whole_galaxies_path=SDSS_SOURCE_JPG,galaxies_labels_path=SDSS_LABELS,whole_masks_path=SDSS_WHOLE_MASKS,)\n",
    "print(\"Whole galaxies masks Done\")"
   ]
  },
  {
   "cell_type": "code",
   "execution_count": null,
   "id": "5a69ec73-2635-4911-90aa-ff905836b19c",
   "metadata": {},
   "outputs": [],
   "source": [
    "extract_fits(source_fits_path=SDSS_SOURCE_FITS,whole_masks_path=SDSS_WHOLE_MASKS,extracted_fits_path=EXTRACTED_FITS,)\n",
    "print(\"Extracted data from fits Done\")"
   ]
  },
  {
   "cell_type": "code",
   "execution_count": null,
   "id": "ba5f4642-8512-4a6a-bd49-2f6e448cde15",
   "metadata": {},
   "outputs": [],
   "source": [
    "result_df = get_galaxies(fit_dir_path=EXTRACTED_FITS, labels=SDSS_LABELS,)\n",
    "print(f\"Galaxies processed: {len(result_df)}\")\n",
    "result_df.to_excel(RESULT_PATH, index=False)\n",
    "print(\"Final data extracteed Done\")"
   ]
  },
  {
   "cell_type": "code",
   "execution_count": null,
   "id": "43aed460-9605-42bd-95c2-c0c5f8c60092",
   "metadata": {},
   "outputs": [],
   "source": [
    "for folder_num in range(22, 29):\n",
    "    EXTRACTED_FITS = f\"/home/jovyan/data2/uniba/sdss_extracted_fits/folder_{folder_num}\"\n",
    "    SDSS_LABELS = f\"/home/jovyan/data2/uniba/sdss_labels/folder_{folder_num}\"\n",
    "    RESULT_PATH = f\"/home/jovyan/data2/uniba/sdss_result_excel/galaxies_data_folder_{folder_num}.xlsx\"\n",
    "    \n",
    "    result_df = get_galaxies(fit_dir_path=EXTRACTED_FITS, labels=SDSS_LABELS,)\n",
    "    print(f\"Galaxies processed: {len(result_df)}\")\n",
    "    result_df.to_excel(RESULT_PATH, index=False)\n",
    "    print(\"Final data extracteed Done\")"
   ]
  },
  {
   "cell_type": "code",
   "execution_count": null,
   "id": "245dec02-8363-4bb4-b14c-b796fdbe1b35",
   "metadata": {},
   "outputs": [],
   "source": [
    "for folder_num in range(3, 29):\n",
    "    SDSS_SOURCE_FITS = f\"/home/jovyan/data2/uniba/sdss_source_fits/folder_{folder_num}\"\n",
    "    SDSS_SOURCE_JPG = f\"/home/jovyan/data2/uniba/sdss_source_jpg/folder_{folder_num}\"\n",
    "    SDSS_LABELS = f\"/home/jovyan/data2/uniba/sdss_labels/folder_{folder_num}\"\n",
    "\n",
    "    SDSS_CROPPED_GALAXIES = f\"/home/jovyan/data2/uniba/sdss_cropped_galaxies/folder_{folder_num}\"\n",
    "    if not os.path.exists(SDSS_CROPPED_GALAXIES):\n",
    "        os.mkdir(SDSS_CROPPED_GALAXIES)\n",
    "\n",
    "    SDSS_CROPPED_MASKS = f\"/home/jovyan/data2/uniba/sdss_cropped_masks/folder_{folder_num}\"\n",
    "    if not os.path.exists(SDSS_CROPPED_MASKS):\n",
    "        os.mkdir(SDSS_CROPPED_MASKS)\n",
    "\n",
    "    SDSS_WHOLE_MASKS = f\"/home/jovyan/data2/uniba/sdss_whole_masks/folder_{folder_num}\"\n",
    "    if not os.path.exists(SDSS_WHOLE_MASKS):\n",
    "        os.mkdir(SDSS_WHOLE_MASKS)\n",
    "\n",
    "    EXTRACTED_FITS = f\"/home/jovyan/data2/uniba/sdss_extracted_fits/folder_{folder_num}\"\n",
    "    if not os.path.exists(EXTRACTED_FITS):\n",
    "        os.mkdir(EXTRACTED_FITS)\n",
    "\n",
    "    RESULT_PATH = f\"/home/jovyan/data2/uniba/sdss_result_excel/galaxies_data_folder_{folder_num}.xlsx\"\n",
    "    \n",
    "    print(\"Working on \" + str(folder_num) + \" folder\")\n",
    "    \n",
    "    crop_and_save(labels_path=SDSS_LABELS,galaxies_jpg_path=SDSS_SOURCE_JPG,destination=SDSS_CROPPED_GALAXIES,)\n",
    "    print(\"Cropped galaxies Done\")\n",
    "    create_masks(cropped_galaxies_path=SDSS_CROPPED_GALAXIES, cropped_masks_path=SDSS_CROPPED_MASKS)\n",
    "    print(\"Cropped galaxies masks Done\")\n",
    "    create_whole_masks(cropped_masks_path=SDSS_CROPPED_MASKS,whole_galaxies_path=SDSS_SOURCE_JPG,galaxies_labels_path=SDSS_LABELS,whole_masks_path=SDSS_WHOLE_MASKS,)\n",
    "    print(\"Whole galaxies masks Done\")\n",
    "    extract_fits(source_fits_path=SDSS_SOURCE_FITS,whole_masks_path=SDSS_WHOLE_MASKS,extracted_fits_path=EXTRACTED_FITS,)\n",
    "    print(\"Extracted data from fits Done\")\n",
    "    result_df = get_galaxies(fit_dir_path=EXTRACTED_FITS, labels=SDSS_LABELS,)\n",
    "    print(f\"Galaxies processed: {len(result_df)}\")\n",
    "    result_df.to_excel(RESULT_PATH, index=False)\n",
    "    print(\"Final data extracteed Done\")"
   ]
  },
  {
   "cell_type": "code",
   "execution_count": null,
   "id": "48372e4e-2a7f-4124-9386-3aad3b834583",
   "metadata": {},
   "outputs": [],
   "source": []
  }
 ],
 "metadata": {
  "kernelspec": {
   "display_name": "Python 3 (ipykernel)",
   "language": "python",
   "name": "python3"
  },
  "language_info": {
   "codemirror_mode": {
    "name": "ipython",
    "version": 3
   },
   "file_extension": ".py",
   "mimetype": "text/x-python",
   "name": "python",
   "nbconvert_exporter": "python",
   "pygments_lexer": "ipython3",
   "version": "3.12.8"
  }
 },
 "nbformat": 4,
 "nbformat_minor": 5
}
