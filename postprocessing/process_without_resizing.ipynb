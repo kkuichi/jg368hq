{
 "cells": [
  {
   "cell_type": "code",
   "execution_count": null,
   "id": "8f6b1989-4a3b-45f4-8cdf-5d65df996c6f",
   "metadata": {},
   "outputs": [],
   "source": [
    "!python treshold_mine.py"
   ]
  },
  {
   "cell_type": "code",
   "execution_count": 12,
   "id": "8b87ed62-34a6-44b2-8b20-0a442fcb94bf",
   "metadata": {},
   "outputs": [
    {
     "name": "stdout",
     "output_type": "stream",
     "text": [
      "[!] No matching FITS file for Thumbs.db. Skipping.\n"
     ]
    }
   ],
   "source": [
    "import os\n",
    "import numpy as np\n",
    "from PIL import Image\n",
    "from astropy.io import fits\n",
    "import matplotlib.pyplot as plt\n",
    "\n",
    "# Paths\n",
    "FITS_DIR = '../data/new_data_subset/cut_fits'\n",
    "MASKS_DIR = '../data/new_data_subset/masks_from_cut_fits/cv_masks'\n",
    "OUTPUT_DIR = '../data/new_data_subset/masks_from_cut_fits/cut_fits_masked_cv'\n",
    "\n",
    "# Ensure output directory exists\n",
    "os.makedirs(OUTPUT_DIR, exist_ok=True)\n",
    "\n",
    "for mask_filename in os.listdir(MASKS_DIR):\n",
    "    fits_filename = mask_filename.replace('.png', '.fits')\n",
    "    fits_path = os.path.join(FITS_DIR, fits_filename)\n",
    "\n",
    "    if not os.path.exists(fits_path):\n",
    "        print(f\"[!] No matching FITS file for {mask_filename}. Skipping.\")\n",
    "        continue\n",
    "\n",
    "    # Open FITS file\n",
    "    with fits.open(fits_path) as hdul:\n",
    "        data = hdul[0].data\n",
    "        header = hdul[0].header\n",
    "\n",
    "    # Load mask (expecting exact size match with FITS data)\n",
    "    mask_path = os.path.join(MASKS_DIR, mask_filename)\n",
    "    mask_image = Image.open(mask_path).convert(\"L\")\n",
    "    mask_array = np.array(mask_image)\n",
    "\n",
    "    # Sanity check: assert exact size match\n",
    "    if mask_array.shape != data.shape:\n",
    "        print(f\"[!] Size mismatch: mask {mask_array.shape} vs FITS {data.shape}\")\n",
    "        continue\n",
    "\n",
    "    # Ensure binary (0 or 255)\n",
    "    mask_array = (mask_array > 128).astype(np.uint8) * 255\n",
    "\n",
    "    # Flip vertically to match FITS bottom-up orientation\n",
    "    mask_array = mask_array[::-1]\n",
    "\n",
    "    # Apply mask to FITS data (mask 0 = background, 255 = keep original data)\n",
    "    bin_mask = (mask_array == 0)\n",
    "    new_image = np.copy(data)\n",
    "    new_image[bin_mask] = 0\n",
    "\n",
    "    # Save masked FITS\n",
    "    output_fits_path = os.path.join(OUTPUT_DIR, fits_filename)\n",
    "    fits.writeto(output_fits_path, new_image, header=header, overwrite=True)"
   ]
  },
  {
   "cell_type": "code",
   "execution_count": null,
   "id": "49a7cce2-bdb0-4fdd-8f1c-49df43c346f3",
   "metadata": {},
   "outputs": [],
   "source": []
  }
 ],
 "metadata": {
  "kernelspec": {
   "display_name": "Python 3 (ipykernel)",
   "language": "python",
   "name": "python3"
  },
  "language_info": {
   "codemirror_mode": {
    "name": "ipython",
    "version": 3
   },
   "file_extension": ".py",
   "mimetype": "text/x-python",
   "name": "python",
   "nbconvert_exporter": "python",
   "pygments_lexer": "ipython3",
   "version": "3.12.10"
  }
 },
 "nbformat": 4,
 "nbformat_minor": 5
}
