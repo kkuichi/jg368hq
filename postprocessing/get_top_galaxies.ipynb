{
 "cells": [
  {
   "cell_type": "code",
   "execution_count": 1,
   "id": "e76c7aaa-53d3-416c-af20-99e2720fb59c",
   "metadata": {},
   "outputs": [],
   "source": [
    "import os\n",
    "import multiprocessing"
   ]
  },
  {
   "cell_type": "code",
   "execution_count": 9,
   "id": "79942620-8412-4906-8031-8d983469d2dd",
   "metadata": {},
   "outputs": [],
   "source": [
    "def process_file(file_path, root_folder):\n",
    "    relative_folder = os.path.relpath(os.path.dirname(file_path), root_folder)\n",
    "    base_name = os.path.splitext(os.path.basename(file_path))[0]  # Remove .txt extension\n",
    "    entries = []\n",
    "    \n",
    "    with open(file_path, 'r') as file:\n",
    "        for row_number, line in enumerate(file):\n",
    "            values = line.split()\n",
    "            if len(values) >= 6 and float(values[5]) > 0.8:\n",
    "                entry = f\"{relative_folder}/{base_name} - {row_number}\"\n",
    "                entries.append(entry)\n",
    "    \n",
    "    return entries\n",
    "\n",
    "def save_txt_file_paths(root_folder, log_file):\n",
    "    file_paths = []\n",
    "    txt_files = []\n",
    "    \n",
    "    # Gather all .txt files\n",
    "    for folder_name, subfolders, filenames in os.walk(root_folder):\n",
    "        for file_name in filenames:\n",
    "            if file_name.endswith('.txt'):\n",
    "                txt_files.append(os.path.join(folder_name, file_name))\n",
    "    \n",
    "    # Use multiprocessing to speed up processing\n",
    "    with multiprocessing.Pool() as pool:\n",
    "        results = pool.starmap(process_file, [(file, root_folder) for file in txt_files])\n",
    "    \n",
    "    # Flatten results\n",
    "    file_paths = [entry for sublist in results for entry in sublist]\n",
    "    \n",
    "    # Save file paths to a log file\n",
    "    with open(log_file, 'w') as log:\n",
    "        log.write(\"\\n\".join(file_paths))\n",
    "\n",
    "    print(f\"Saved {len(file_paths)} valid file paths to {log_file}\")\n",
    "    \n",
    "# Folders\n",
    "root_folder = '/home/jovyan/data2/uniba/sdss_labels'\n",
    "log_file = os.path.join('/home/jovyan/data2/uniba', 'file_paths.txt')"
   ]
  },
  {
   "cell_type": "code",
   "execution_count": 10,
   "id": "ff48c06e-d01e-4880-b6f8-eb9bea7cf334",
   "metadata": {},
   "outputs": [
    {
     "name": "stdout",
     "output_type": "stream",
     "text": [
      "Saved 168 valid file paths to /home/jovyan/data2/uniba/file_paths.txt\n"
     ]
    }
   ],
   "source": [
    "save_txt_file_paths(root_folder, log_file)"
   ]
  },
  {
   "cell_type": "code",
   "execution_count": null,
   "id": "6bb197ee-1cef-4f85-b82c-4e423aa3fb09",
   "metadata": {},
   "outputs": [],
   "source": []
  }
 ],
 "metadata": {
  "kernelspec": {
   "display_name": "Python 3 (ipykernel)",
   "language": "python",
   "name": "python3"
  },
  "language_info": {
   "codemirror_mode": {
    "name": "ipython",
    "version": 3
   },
   "file_extension": ".py",
   "mimetype": "text/x-python",
   "name": "python",
   "nbconvert_exporter": "python",
   "pygments_lexer": "ipython3",
   "version": "3.12.10"
  }
 },
 "nbformat": 4,
 "nbformat_minor": 5
}
